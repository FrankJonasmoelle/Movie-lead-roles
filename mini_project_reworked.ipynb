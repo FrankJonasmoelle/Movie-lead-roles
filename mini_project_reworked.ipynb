{
 "cells": [
  {
   "cell_type": "code",
   "execution_count": 1,
   "id": "6b71d7a6",
   "metadata": {},
   "outputs": [],
   "source": [
    "import pandas as pd\n",
    "import numpy as np\n",
    "import matplotlib.pyplot as plt\n",
    "from sklearn.model_selection import train_test_split\n",
    "from sklearn import preprocessing\n",
    "import itertools\n",
    "\n",
    "from sklearn import tree\n",
    "from sklearn.ensemble import BaggingClassifier, RandomForestClassifier\n",
    "from sklearn.ensemble import RandomForestClassifier\n",
    "from sklearn.model_selection import GridSearchCV\n",
    "from sklearn.preprocessing import StandardScaler\n",
    "from sklearn.neighbors import KNeighborsClassifier\n",
    "from sklearn.ensemble import AdaBoostClassifier\n",
    "from sklearn.ensemble import GradientBoostingClassifier\n",
    "from sklearn.svm import SVC\n",
    "from sklearn.linear_model import LogisticRegression\n",
    "from sklearn.discriminant_analysis import LinearDiscriminantAnalysis, QuadraticDiscriminantAnalysis\n",
    "from sklearn.model_selection import KFold\n",
    "from sklearn.metrics import precision_score, recall_score, f1_score\n",
    "from sklearn.metrics import plot_confusion_matrix\n",
    "from sklearn.metrics import confusion_matrix"
   ]
  },
  {
   "cell_type": "code",
   "execution_count": 2,
   "id": "d02f7f5a",
   "metadata": {},
   "outputs": [],
   "source": [
    "def k_fold_cv(model, X_train, y_train):\n",
    "    \"\"\"executes sklearn's k-fold cross-validation on a given sklearn model\n",
    "    \n",
    "    :param model: sklearn classification model \n",
    "    :X_train: pandas.DataFrame or numpy.array, matrix containing \n",
    "    :y_train: pandas.Series, containing labels for the training data\n",
    "    :return accuracy, misclassifications_avg: Average accuracy and misclassification rate over all folds\n",
    "    \"\"\"\n",
    "    kf = KFold(n_splits=10, random_state=42, shuffle=True)\n",
    "\n",
    "    y_train = np.array(y_train)\n",
    "    misclassifications = []\n",
    "\n",
    "    for train_index, test_index in kf.split(X_train):\n",
    "\n",
    "        train_X, test_X = X_train[train_index], X_train[test_index]\n",
    "        train_y, test_y = y_train[train_index], y_train[test_index]\n",
    "\n",
    "        clf = model.fit(train_X, train_y)\n",
    "        print(clf.score(test_X, test_y))\n",
    "        \n",
    "        prediction = clf.predict(test_X)\n",
    "        misclassifications.append(np.mean(prediction != test_y))\n",
    "    \n",
    "    misclassifications_avg = sum(misclassifications)/len(misclassifications)\n",
    "    accuracy = 1-(sum(misclassifications)/len(misclassifications))\n",
    "    \n",
    "    return accuracy, misclassifications_avg"
   ]
  },
  {
   "cell_type": "markdown",
   "id": "548bbea4",
   "metadata": {},
   "source": [
    "# Investigating Feature Importance"
   ]
  },
  {
   "cell_type": "markdown",
   "id": "622b9025",
   "metadata": {},
   "source": [
    "### Data Preparation"
   ]
  },
  {
   "cell_type": "code",
   "execution_count": 66,
   "id": "e4c97252",
   "metadata": {},
   "outputs": [],
   "source": [
    "train_df = pd.read_csv('train.csv')\n",
    "test_df = pd.read_csv('test.csv')"
   ]
  },
  {
   "cell_type": "code",
   "execution_count": 67,
   "id": "7ea97bfb",
   "metadata": {},
   "outputs": [],
   "source": [
    "X = train_df.drop(columns=['Lead'])\n",
    "y = train_df['Lead']"
   ]
  },
  {
   "cell_type": "code",
   "execution_count": 68,
   "id": "d7072eae",
   "metadata": {},
   "outputs": [],
   "source": [
    "X_train, X_test, y_train, y_test = train_test_split(X, y, test_size=0.3, random_state=42)"
   ]
  },
  {
   "cell_type": "code",
   "execution_count": 69,
   "id": "e94927cd",
   "metadata": {},
   "outputs": [],
   "source": [
    "# MinMaxScaler\n",
    "scaler = preprocessing.MinMaxScaler()\n",
    "X_train = scaler.fit_transform(X_train)\n",
    "X_test = scaler.transform(X_test)"
   ]
  },
  {
   "cell_type": "markdown",
   "id": "7f480304",
   "metadata": {},
   "source": [
    "## Feature importance using Logistic Regression"
   ]
  },
  {
   "cell_type": "code",
   "execution_count": 70,
   "id": "30cb85cc",
   "metadata": {},
   "outputs": [
    {
     "name": "stdout",
     "output_type": "stream",
     "text": [
      "{'C': 200}\n"
     ]
    }
   ],
   "source": [
    "parameters = {'C': [0.01, 0.1, 1, 10, 100, 200, 300, 400]}\n",
    "\n",
    "clf = LogisticRegression()\n",
    "\n",
    "gs = GridSearchCV(clf, parameters)\n",
    "\n",
    "gs.fit(X_train, y_train)\n",
    "print(gs.best_params_)"
   ]
  },
  {
   "cell_type": "code",
   "execution_count": 71,
   "id": "a7f28b9a",
   "metadata": {},
   "outputs": [
    {
     "name": "stdout",
     "output_type": "stream",
     "text": [
      "0.9178082191780822\n",
      "0.863013698630137\n",
      "0.8493150684931506\n",
      "0.863013698630137\n",
      "0.8493150684931506\n",
      "0.9452054794520548\n",
      "0.8082191780821918\n",
      "0.9027777777777778\n",
      "0.8472222222222222\n",
      "0.8055555555555556\n",
      "accuracy:  0.8651445966514459\n",
      "misclassifications:  0.13485540334855403\n"
     ]
    }
   ],
   "source": [
    "accuracy, misclassifications = k_fold_cv(LogisticRegression(**gs.best_params_), X_train, y_train)\n",
    "\n",
    "print('accuracy: ', accuracy)\n",
    "print('misclassifications: ', misclassifications)"
   ]
  },
  {
   "cell_type": "code",
   "execution_count": 72,
   "id": "95af0475",
   "metadata": {},
   "outputs": [
    {
     "data": {
      "text/plain": [
       "0.8910256410256411"
      ]
     },
     "execution_count": 72,
     "metadata": {},
     "output_type": "execute_result"
    }
   ],
   "source": [
    "clf = LogisticRegression(**gs.best_params_).fit(X_train, y_train)\n",
    "clf.score(X_test, y_test)"
   ]
  },
  {
   "cell_type": "markdown",
   "id": "d08d7014",
   "metadata": {},
   "source": [
    "### Influence of each feature by investigating coefficients of Logistic Regression"
   ]
  },
  {
   "cell_type": "code",
   "execution_count": 73,
   "id": "f7eac07e",
   "metadata": {},
   "outputs": [
    {
     "name": "stdout",
     "output_type": "stream",
     "text": [
      "Number words female \n",
      " 14.749103821871048\n",
      " \n",
      "Total words \n",
      " -3.4663473901655593\n",
      " \n",
      "Number of words lead \n",
      " -13.997592849390387\n",
      " \n",
      "Difference in words lead and co-lead \n",
      " 20.31550713910402\n",
      " \n",
      "Number of male actors \n",
      " 7.8582216463135595\n",
      " \n",
      "Year \n",
      " 0.16068573735498548\n",
      " \n",
      "Number of female actors \n",
      " -10.509542877238937\n",
      " \n",
      "Number words male \n",
      " -2.5685697014232787\n",
      " \n",
      "Gross \n",
      " 1.9144201015062485\n",
      " \n",
      "Mean Age Male \n",
      " -1.237365557520277\n",
      " \n",
      "Mean Age Female \n",
      " 0.6751330710989943\n",
      " \n",
      "Age Lead \n",
      " 3.8712993231040995\n",
      " \n",
      "Age Co-Lead \n",
      " -3.6026399725316693\n",
      " \n"
     ]
    }
   ],
   "source": [
    "for i in range(len(X.columns)):\n",
    "    print(X.columns[i], '\\n', clf.coef_[0][i])\n",
    "    print(' ')"
   ]
  },
  {
   "cell_type": "markdown",
   "id": "07fb311d",
   "metadata": {},
   "source": [
    "By printing the coefficients for each feature, we can investigate how strongly one feature effects the logistic regression models' prediction. \n",
    "Small valued coefficents of a variable mean that it's influence is rather low (low feature importance).\n",
    "The higher the coefficient, the higher is the influence of the corresponding feature (high feature importance). \n",
    "\n",
    "Features with low influence: \n",
    "- Year\n",
    "- Number words male \n",
    "- Gross\n",
    "- Mean Age Male \n",
    "- Mean Age Female "
   ]
  },
  {
   "cell_type": "markdown",
   "id": "91ccca70",
   "metadata": {},
   "source": [
    "## Feature Importance using Random Forest"
   ]
  },
  {
   "cell_type": "code",
   "execution_count": 74,
   "id": "1a8cb697",
   "metadata": {},
   "outputs": [
    {
     "name": "stdout",
     "output_type": "stream",
     "text": [
      "{'max_depth': 12, 'n_estimators': 200}\n"
     ]
    }
   ],
   "source": [
    "parameters = {'n_estimators': [100, 200, 500, 750],\n",
    "             'max_depth': [6, 8, 12, 14]}\n",
    "\n",
    "clf = RandomForestClassifier()\n",
    "\n",
    "gs = GridSearchCV(clf, parameters)\n",
    "\n",
    "gs.fit(X_train, y_train)\n",
    "print(gs.best_params_)"
   ]
  },
  {
   "cell_type": "code",
   "execution_count": 75,
   "id": "73a460ca",
   "metadata": {},
   "outputs": [
    {
     "name": "stdout",
     "output_type": "stream",
     "text": [
      "0.9041095890410958\n",
      "0.726027397260274\n",
      "0.821917808219178\n",
      "0.8767123287671232\n",
      "0.7808219178082192\n",
      "0.863013698630137\n",
      "0.7671232876712328\n",
      "0.8611111111111112\n",
      "0.8472222222222222\n",
      "0.8055555555555556\n",
      "accuracy:  0.8253614916286149\n",
      "misclassifications:  0.1746385083713851\n"
     ]
    }
   ],
   "source": [
    "accuracy, misclassifications = k_fold_cv(RandomForestClassifier(**gs.best_params_), X_train, y_train)\n",
    "\n",
    "print('accuracy: ', accuracy)\n",
    "print('misclassifications: ', misclassifications)"
   ]
  },
  {
   "cell_type": "code",
   "execution_count": 76,
   "id": "cf1e4dda",
   "metadata": {},
   "outputs": [
    {
     "data": {
      "text/plain": [
       "0.8269230769230769"
      ]
     },
     "execution_count": 76,
     "metadata": {},
     "output_type": "execute_result"
    }
   ],
   "source": [
    "clf = RandomForestClassifier(**gs.best_params_).fit(X_train, y_train)\n",
    "clf.score(X_test, y_test)"
   ]
  },
  {
   "cell_type": "code",
   "execution_count": 77,
   "id": "2f165cf5",
   "metadata": {
    "scrolled": true
   },
   "outputs": [
    {
     "data": {
      "text/plain": [
       "{'Gross': 0.05162458660831491,\n",
       " 'Year': 0.05342161171076853,\n",
       " 'Mean Age Male': 0.057137374820115445,\n",
       " 'Total words': 0.0572978653744315,\n",
       " 'Number of words lead': 0.05937477178233097,\n",
       " 'Number words male': 0.06349240625737651,\n",
       " 'Mean Age Female': 0.06803488025445663,\n",
       " 'Number of male actors': 0.07432745851245814,\n",
       " 'Age Co-Lead': 0.08051771128614486,\n",
       " 'Difference in words lead and co-lead': 0.09041183549542955,\n",
       " 'Number of female actors': 0.09627151518468963,\n",
       " 'Age Lead': 0.10736488496639139,\n",
       " 'Number words female': 0.14072309774709194}"
      ]
     },
     "execution_count": 77,
     "metadata": {},
     "output_type": "execute_result"
    }
   ],
   "source": [
    "scores = {}\n",
    "\n",
    "for i in range(len(X.columns)):\n",
    "    scores[X.columns[i]] = clf.feature_importances_[i]\n",
    "\n",
    "dict(sorted(scores.items(), key=lambda item: item[1]))"
   ]
  },
  {
   "cell_type": "markdown",
   "id": "b9a068f9",
   "metadata": {},
   "source": [
    "The feature_importances_ property of the sklearn's Random Forest provides insight of the importance of each feature. \n",
    "It is calculated using Gini importance, the higher the value, the more important the feature.\n",
    "\n",
    "Features with low influence:\n",
    "- Year\n",
    "- Gross\n",
    "- Number of words lead\n",
    "- Total words\n",
    "- Mean Age Male\n",
    "- Number words male"
   ]
  },
  {
   "cell_type": "markdown",
   "id": "fac7905f",
   "metadata": {},
   "source": [
    "Investigating the feature importance using Logistic Regression and Random Forest, we can assume that the following features\n",
    "have a low influence on the prediction:\n",
    "- Year\n",
    "- Number words male\n",
    "- Gross\n",
    "- Mean Age Male\n",
    "- Mean Age Female\n",
    "- Number of words lead\n",
    "- Total words"
   ]
  },
  {
   "cell_type": "markdown",
   "id": "bb6c6d15",
   "metadata": {},
   "source": [
    "To determine which of these features we should drop to receive the best result for a given model, we write the function\n",
    "'best_feature_subset':"
   ]
  },
  {
   "cell_type": "code",
   "execution_count": null,
   "id": "22259ddb",
   "metadata": {},
   "outputs": [],
   "source": [
    "def best_feature_subset(model, parameter_grid, df):\n",
    "    \"\"\"Calculates k-fold cross-validation accuracy for a given model and different feature inputs.\n",
    "    \n",
    "    Each combination of the following features is excluded from the training set. For each of these combinations, a separate\n",
    "    model is trained and evaluated using k-fold cross-validation. The dropped features and resulting k-fold cross \n",
    "    validation accuracies are stored in a dictionary. \n",
    "    \n",
    "    The features that got excluded from the dataset are:\n",
    "    - Year\n",
    "    - Number words male\n",
    "    - Gross\n",
    "    - Mean Age Male\n",
    "    - Mean Age Female\n",
    "    - Number of words lead\n",
    "    - Total words\n",
    "    These features showed lowest feature importance (investigation done using Random Forest and Logistic Regression)\n",
    "    \n",
    "    \n",
    "    :param model: sklearn classification model \n",
    "    :param parameter_grid: dictionary, containing possible parameter combinations for gridsearch\n",
    "    :param df: pandas.DataFrame, containing training data including labels\n",
    "    :return sorted_accuracies: dictionary, containing cross-validation accuracies for each feature combination. \n",
    "                                Sorted in increasing order.\n",
    "    \"\"\"\n",
    "    features = ['Year', 'Number words male', 'Gross', 'Mean Age Male', 'Mean Age Female', 'Number of words lead', 'Total words']\n",
    "\n",
    "    accuracies = {}\n",
    "\n",
    "    for i in range(len(features)):\n",
    "        ls_of_subfeatures = list(itertools.combinations(features, i))\n",
    "\n",
    "        for combi in ls_of_subfeatures:\n",
    "            features_to_drop = list(combi) + ['Lead']\n",
    "            print(str(features_to_drop))\n",
    "\n",
    "            X = train_df.drop(columns=features_to_drop)\n",
    "            y = train_df['Lead']\n",
    "            X_train, X_test, y_train, y_test = train_test_split(X, y, test_size=0.3, random_state=42)\n",
    "\n",
    "            # MinMaxScaler\n",
    "            scaler = preprocessing.MinMaxScaler()\n",
    "            X_train = scaler.fit_transform(X_train)\n",
    "            X_test = scaler.transform(X_test)\n",
    "\n",
    "            # gridsearch\n",
    "            gs = GridSearchCV(model(), parameter_grid)\n",
    "\n",
    "            gs.fit(X_train, y_train)\n",
    "\n",
    "            accuracy, _ = k_fold_cv(model(**gs.best_params_), X_train, y_train)\n",
    "            feature_string = ', '.join(combi)\n",
    "            accuracies[feature_string] = accuracy\n",
    "    sorted_accuracies = dict(sorted(accuracies.items(), key=lambda item: item[1])) \n",
    "    return sorted_accuracies"
   ]
  },
  {
   "cell_type": "markdown",
   "id": "5653ed15",
   "metadata": {},
   "source": [
    "# Feature Selection using \"best_feature_subset\""
   ]
  },
  {
   "cell_type": "code",
   "execution_count": null,
   "id": "1573a2d6",
   "metadata": {},
   "outputs": [],
   "source": [
    "train_df = pd.read_csv('train.csv')\n",
    "test_df = pd.read_csv('test.csv')"
   ]
  },
  {
   "cell_type": "markdown",
   "id": "8188e263",
   "metadata": {},
   "source": [
    "## KNN"
   ]
  },
  {
   "cell_type": "code",
   "execution_count": null,
   "id": "8599e890",
   "metadata": {},
   "outputs": [],
   "source": [
    "parameters = {'n_neighbors': [3,5,7,9,11,13,15]}\n",
    "\n",
    "best_feature_subset(KNeighborsClassifier, parameters, train_df)"
   ]
  },
  {
   "cell_type": "markdown",
   "id": "75b630b2",
   "metadata": {},
   "source": [
    "Optimal features to drop: \n",
    "- Year\n",
    "- Number words male\n",
    "- Mean Age Male\n",
    "- Total words"
   ]
  },
  {
   "cell_type": "markdown",
   "id": "91cd7523",
   "metadata": {},
   "source": [
    "## Logistic Regression"
   ]
  },
  {
   "cell_type": "code",
   "execution_count": null,
   "id": "ae6ef5b6",
   "metadata": {},
   "outputs": [],
   "source": [
    "parameters = {'C': [0.01, 0.1, 1, 10, 100, 200, 300, 400]}\n",
    "\n",
    "best_feature_subset(LogisticRegression, parameters, train_df)"
   ]
  },
  {
   "cell_type": "markdown",
   "id": "38a89b7a",
   "metadata": {},
   "source": [
    "Optimal features to drop: \n",
    "- Year \n",
    "- Gross\n",
    "- Mean Age Male\n",
    "- Total words"
   ]
  },
  {
   "cell_type": "markdown",
   "id": "e954d84f",
   "metadata": {},
   "source": [
    "## QDA"
   ]
  },
  {
   "cell_type": "code",
   "execution_count": null,
   "id": "75f7899d",
   "metadata": {},
   "outputs": [],
   "source": [
    "parameters = {}\n",
    "best_feature_subset(QuadraticDiscriminantAnalysis, parameters, train_df)"
   ]
  },
  {
   "cell_type": "markdown",
   "id": "45da2db2",
   "metadata": {},
   "source": [
    "Optimal features to drop:\n",
    "- Year\n",
    "- Total words"
   ]
  },
  {
   "cell_type": "markdown",
   "id": "a319350f",
   "metadata": {},
   "source": [
    "## LDA"
   ]
  },
  {
   "cell_type": "code",
   "execution_count": null,
   "id": "be099c19",
   "metadata": {},
   "outputs": [],
   "source": [
    "parameters = {}\n",
    "best_feature_subset(LinearDiscriminantAnalysis, parameters, train_df)"
   ]
  },
  {
   "cell_type": "markdown",
   "id": "057ec164",
   "metadata": {},
   "source": [
    "Optimal features to drop:\n",
    "- Year\n",
    "- Gross\n",
    "- Mean Age Male\n",
    "- Total words"
   ]
  },
  {
   "cell_type": "markdown",
   "id": "d5c6c30b",
   "metadata": {},
   "source": [
    "## Random Forest"
   ]
  },
  {
   "cell_type": "code",
   "execution_count": null,
   "id": "58fce4ec",
   "metadata": {},
   "outputs": [],
   "source": [
    "parameters = {'n_estimators': [100, 200, 500],\n",
    "             'max_depth': [6, 8, 12]}\n",
    "\n",
    "best_feature_subset(RandomForestClassifier, parameters, train_df)"
   ]
  },
  {
   "cell_type": "markdown",
   "id": "f2e79818",
   "metadata": {},
   "source": [
    "Optimal features to drop:\n",
    "- Gross\n",
    "- Mean Age Male\n",
    "- Mean Age Female\n",
    "- Total words"
   ]
  },
  {
   "cell_type": "markdown",
   "id": "a6e3daa7",
   "metadata": {},
   "source": [
    "## SVM"
   ]
  },
  {
   "cell_type": "code",
   "execution_count": null,
   "id": "7bce6b5c",
   "metadata": {},
   "outputs": [],
   "source": [
    "parameters = {'C': [1, 10, 100, 150],\n",
    "              'kernel': ['poly', 'rbf'],\n",
    "             'gamma': ['scale', 'auto']}\n",
    "\n",
    "best_feature_subset(SVC, parameters, train_df)"
   ]
  },
  {
   "cell_type": "markdown",
   "id": "6ee320c7",
   "metadata": {},
   "source": [
    "Optimal features to drop:\n",
    "- Year\n",
    "- Gross\n",
    "- Mean Age Male\n",
    "- Mean Age Female\n",
    "- Total words"
   ]
  },
  {
   "cell_type": "markdown",
   "id": "4e179181",
   "metadata": {},
   "source": [
    "# Training and Evaluating the models with optimal features"
   ]
  },
  {
   "cell_type": "markdown",
   "id": "af2932df",
   "metadata": {},
   "source": [
    "## KNN"
   ]
  },
  {
   "cell_type": "code",
   "execution_count": 354,
   "id": "853d7062",
   "metadata": {},
   "outputs": [],
   "source": [
    "train_df = pd.read_csv('train.csv')\n",
    "test_df = pd.read_csv('test.csv')"
   ]
  },
  {
   "cell_type": "code",
   "execution_count": 355,
   "id": "db34d759",
   "metadata": {},
   "outputs": [],
   "source": [
    "# Features to drop: \n",
    "# 'Year, Number words male, Mean Age Male, Total words'\n",
    "\n",
    "X = train_df.drop(columns=['Lead', 'Year', 'Number words male', 'Mean Age Male', 'Total words'])\n",
    "y = train_df['Lead']"
   ]
  },
  {
   "cell_type": "code",
   "execution_count": 356,
   "id": "c5471b08",
   "metadata": {},
   "outputs": [],
   "source": [
    "X_train, X_test, y_train, y_test = train_test_split(X, y, test_size=0.3, random_state=42)"
   ]
  },
  {
   "cell_type": "code",
   "execution_count": 357,
   "id": "e5fde681",
   "metadata": {},
   "outputs": [],
   "source": [
    "# MinMaxScaler\n",
    "scaler = preprocessing.MinMaxScaler()\n",
    "X_train = scaler.fit_transform(X_train)\n",
    "X_test = scaler.transform(X_test)"
   ]
  },
  {
   "cell_type": "code",
   "execution_count": 358,
   "id": "31e9c649",
   "metadata": {},
   "outputs": [
    {
     "name": "stdout",
     "output_type": "stream",
     "text": [
      "{'metric': 'manhattan', 'n_neighbors': 9, 'weights': 'distance'}\n"
     ]
    }
   ],
   "source": [
    "# Gridsearch\n",
    "parameters = {'n_neighbors': [3,5,7,9,11,13,15],\n",
    "             'weights': ['uniform', 'distance'], \n",
    "             'metric': ['minkowski', 'manhattan', 'chebyshev']}\n",
    "\n",
    "clf = KNeighborsClassifier()\n",
    "\n",
    "gs = GridSearchCV(clf, parameters)\n",
    "\n",
    "gs.fit(X_train, y_train)\n",
    "print(gs.best_params_)"
   ]
  },
  {
   "cell_type": "code",
   "execution_count": 359,
   "id": "1a27c5e2",
   "metadata": {},
   "outputs": [
    {
     "name": "stdout",
     "output_type": "stream",
     "text": [
      "0.8767123287671232\n",
      "0.7671232876712328\n",
      "0.8082191780821918\n",
      "0.8356164383561644\n",
      "0.7534246575342466\n",
      "0.821917808219178\n",
      "0.7945205479452054\n",
      "0.8333333333333334\n",
      "0.7916666666666666\n",
      "0.7638888888888888\n",
      "\n",
      "accuracy:  0.8046423135464231\n",
      "misclassifications:  0.19535768645357685\n"
     ]
    }
   ],
   "source": [
    "# Cross Validation\n",
    "\n",
    "accuracy, misclassifications = k_fold_cv(KNeighborsClassifier(**gs.best_params_), X_train, y_train)\n",
    "\n",
    "print('')\n",
    "print('accuracy: ', accuracy)\n",
    "print('misclassifications: ', misclassifications)"
   ]
  },
  {
   "cell_type": "code",
   "execution_count": 360,
   "id": "9315296c",
   "metadata": {},
   "outputs": [
    {
     "data": {
      "text/plain": [
       "0.8012820512820513"
      ]
     },
     "execution_count": 360,
     "metadata": {},
     "output_type": "execute_result"
    }
   ],
   "source": [
    "# Score on test set\n",
    "\n",
    "clf = KNeighborsClassifier(**gs.best_params_).fit(X_train, y_train)\n",
    "clf.score(X_test, y_test)"
   ]
  },
  {
   "cell_type": "code",
   "execution_count": 362,
   "id": "e06af770",
   "metadata": {},
   "outputs": [],
   "source": [
    "# Confusion Matrix\n",
    "\n",
    "prediction = clf.predict(X_test)\n",
    "\n",
    "# plt.rcParams.update({'font.size': 17})\n",
    "\n",
    "# cfm = plot_confusion_matrix(clf, X_test, y_test, cmap='Blues') \n",
    "# plt.savefig('confusion_matrix_knn.jpg', bbox_inches=\"tight\")\n",
    "# plt.show()"
   ]
  },
  {
   "cell_type": "code",
   "execution_count": 328,
   "id": "5504cbcf",
   "metadata": {},
   "outputs": [
    {
     "name": "stdout",
     "output_type": "stream",
     "text": [
      "Precision:  0.7631578947368421\n",
      "Recall:  0.35365853658536583\n",
      "F1 Score:  0.4833333333333333\n"
     ]
    }
   ],
   "source": [
    "# Evaluation Scores \n",
    "\n",
    "print('Precision: ', precision_score(y_test, prediction, pos_label='Female'))\n",
    "print('Recall: ', recall_score(y_test, prediction, pos_label='Female'))\n",
    "print('F1 Score: ', f1_score(y_test, prediction, pos_label='Female'))"
   ]
  },
  {
   "cell_type": "markdown",
   "id": "c2051392",
   "metadata": {},
   "source": [
    "## Logistic Regression "
   ]
  },
  {
   "cell_type": "code",
   "execution_count": 277,
   "id": "34002c43",
   "metadata": {},
   "outputs": [],
   "source": [
    "train_df = pd.read_csv('train.csv')\n",
    "test_df = pd.read_csv('test.csv')"
   ]
  },
  {
   "cell_type": "code",
   "execution_count": 278,
   "id": "80367553",
   "metadata": {},
   "outputs": [],
   "source": [
    "# Features to drop: \n",
    "# 'Year, Gross, Mean Age Male, Total words'\n",
    "\n",
    "X = train_df.drop(columns=['Lead', 'Year', 'Gross', 'Mean Age Male', 'Total words'])\n",
    "y = train_df['Lead']"
   ]
  },
  {
   "cell_type": "code",
   "execution_count": 279,
   "id": "90bfc1ff",
   "metadata": {},
   "outputs": [],
   "source": [
    "X_train, X_test, y_train, y_test = train_test_split(X, y, test_size=0.3, random_state=42)"
   ]
  },
  {
   "cell_type": "code",
   "execution_count": 280,
   "id": "17df8cd7",
   "metadata": {},
   "outputs": [],
   "source": [
    "# MinMaxScaler\n",
    "scaler = preprocessing.MinMaxScaler()\n",
    "X_train = scaler.fit_transform(X_train)\n",
    "X_test = scaler.transform(X_test)"
   ]
  },
  {
   "cell_type": "code",
   "execution_count": 281,
   "id": "52534c80",
   "metadata": {},
   "outputs": [
    {
     "name": "stdout",
     "output_type": "stream",
     "text": [
      "{'C': 300}\n"
     ]
    }
   ],
   "source": [
    "# Gridsearch\n",
    "parameters = {'C': [0.01, 0.1, 1, 10, 100, 200, 300, 400]}\n",
    "\n",
    "clf = LogisticRegression()\n",
    "\n",
    "gs = GridSearchCV(clf, parameters)\n",
    "\n",
    "gs.fit(X_train, y_train)\n",
    "print(gs.best_params_)"
   ]
  },
  {
   "cell_type": "code",
   "execution_count": 282,
   "id": "d5d5ffad",
   "metadata": {},
   "outputs": [
    {
     "name": "stdout",
     "output_type": "stream",
     "text": [
      "0.9452054794520548\n",
      "0.863013698630137\n",
      "0.821917808219178\n",
      "0.863013698630137\n",
      "0.8493150684931506\n",
      "0.9452054794520548\n",
      "0.8082191780821918\n",
      "0.9166666666666666\n",
      "0.875\n",
      "0.7916666666666666\n",
      "\n",
      "accuracy:  0.8679223744292237\n",
      "misclassifications:  0.13207762557077624\n"
     ]
    }
   ],
   "source": [
    "# Cross Validation\n",
    "\n",
    "accuracy, misclassifications = k_fold_cv(LogisticRegression(**gs.best_params_), X_train, y_train)\n",
    "\n",
    "print('')\n",
    "print('accuracy: ', accuracy)\n",
    "print('misclassifications: ', misclassifications)"
   ]
  },
  {
   "cell_type": "code",
   "execution_count": 283,
   "id": "4cb8d165",
   "metadata": {},
   "outputs": [
    {
     "data": {
      "text/plain": [
       "0.8974358974358975"
      ]
     },
     "execution_count": 283,
     "metadata": {},
     "output_type": "execute_result"
    }
   ],
   "source": [
    "# Score on test set\n",
    "\n",
    "clf = LogisticRegression(**gs.best_params_).fit(X_train, y_train)\n",
    "clf.score(X_test, y_test)"
   ]
  },
  {
   "cell_type": "code",
   "execution_count": 363,
   "id": "04ee8d6c",
   "metadata": {},
   "outputs": [],
   "source": [
    "# Confusion Matrix\n",
    "\n",
    "prediction = clf.predict(X_test)\n",
    "\n",
    "# plt.rcParams.update({'font.size': 17})\n",
    "# plot_confusion_matrix(clf, X_test, y_test, cmap='Blues') \n",
    "# plt.savefig('confusion_matrix_logisticregression.jpg', bbox_inches=\"tight\")\n",
    "# plt.show()"
   ]
  },
  {
   "cell_type": "code",
   "execution_count": 285,
   "id": "b7d52654",
   "metadata": {},
   "outputs": [
    {
     "name": "stdout",
     "output_type": "stream",
     "text": [
      "Precision:  0.9166666666666666\n",
      "Recall:  0.6707317073170732\n",
      "F1 Score:  0.7746478873239437\n"
     ]
    }
   ],
   "source": [
    "# Evaluation Scores \n",
    "\n",
    "print('Precision: ', precision_score(y_test, prediction, pos_label='Female'))\n",
    "print('Recall: ', recall_score(y_test, prediction, pos_label='Female'))\n",
    "print('F1 Score: ', f1_score(y_test, prediction, pos_label='Female'))"
   ]
  },
  {
   "cell_type": "markdown",
   "id": "85b25865",
   "metadata": {},
   "source": [
    "## LDA"
   ]
  },
  {
   "cell_type": "code",
   "execution_count": 286,
   "id": "3a683aa0",
   "metadata": {},
   "outputs": [],
   "source": [
    "train_df = pd.read_csv('train.csv')\n",
    "test_df = pd.read_csv('test.csv')"
   ]
  },
  {
   "cell_type": "code",
   "execution_count": 287,
   "id": "2bc869b4",
   "metadata": {},
   "outputs": [],
   "source": [
    "# Features to drop: \n",
    "# 'Year, Gross, Mean Age Male, Total words'\n",
    "\n",
    "X = train_df.drop(columns=['Lead', 'Year', 'Gross', 'Mean Age Male', 'Total words'])\n",
    "y = train_df['Lead']"
   ]
  },
  {
   "cell_type": "code",
   "execution_count": 288,
   "id": "bcdad863",
   "metadata": {},
   "outputs": [],
   "source": [
    "X_train, X_test, y_train, y_test = train_test_split(X, y, test_size=0.3, random_state=42)"
   ]
  },
  {
   "cell_type": "code",
   "execution_count": 289,
   "id": "7d1b60e3",
   "metadata": {},
   "outputs": [],
   "source": [
    "# MinMaxScaler\n",
    "scaler = preprocessing.MinMaxScaler()\n",
    "X_train = scaler.fit_transform(X_train)\n",
    "X_test = scaler.transform(X_test)"
   ]
  },
  {
   "cell_type": "code",
   "execution_count": 290,
   "id": "633f78ac",
   "metadata": {},
   "outputs": [
    {
     "name": "stdout",
     "output_type": "stream",
     "text": [
      "0.958904109589041\n",
      "0.8493150684931506\n",
      "0.821917808219178\n",
      "0.8904109589041096\n",
      "0.863013698630137\n",
      "0.9041095890410958\n",
      "0.7808219178082192\n",
      "0.9166666666666666\n",
      "0.8472222222222222\n",
      "0.8194444444444444\n",
      "\n",
      "accuracy:  0.8651826484018266\n",
      "misclassifications:  0.13481735159817348\n"
     ]
    }
   ],
   "source": [
    "# Cross Validation\n",
    "\n",
    "accuracy, misclassifications = k_fold_cv(LinearDiscriminantAnalysis(), X_train, y_train)\n",
    "\n",
    "print('')\n",
    "print('accuracy: ', accuracy)\n",
    "print('misclassifications: ', misclassifications)"
   ]
  },
  {
   "cell_type": "code",
   "execution_count": 291,
   "id": "44335273",
   "metadata": {},
   "outputs": [
    {
     "data": {
      "text/plain": [
       "0.8717948717948718"
      ]
     },
     "execution_count": 291,
     "metadata": {},
     "output_type": "execute_result"
    }
   ],
   "source": [
    "# Score on test set\n",
    "\n",
    "clf = LinearDiscriminantAnalysis().fit(X_train, y_train)\n",
    "clf.score(X_test, y_test)"
   ]
  },
  {
   "cell_type": "code",
   "execution_count": 364,
   "id": "8fc59e36",
   "metadata": {},
   "outputs": [],
   "source": [
    "# Confusion Matrix\n",
    "\n",
    "prediction = clf.predict(X_test)\n",
    "\n",
    "# plt.rcParams.update({'font.size': 17})\n",
    "# plot_confusion_matrix(clf, X_test, y_test, cmap='Blues') \n",
    "# plt.savefig('confusion_matrix_lda.jpg', bbox_inches=\"tight\")\n",
    "# plt.show()"
   ]
  },
  {
   "cell_type": "code",
   "execution_count": 293,
   "id": "13bd6f6c",
   "metadata": {},
   "outputs": [
    {
     "name": "stdout",
     "output_type": "stream",
     "text": [
      "Precision:  0.85\n",
      "Recall:  0.6219512195121951\n",
      "F1 Score:  0.7183098591549296\n"
     ]
    }
   ],
   "source": [
    "# Evaluation Scores \n",
    "\n",
    "print('Precision: ', precision_score(y_test, prediction, pos_label='Female'))\n",
    "print('Recall: ', recall_score(y_test, prediction, pos_label='Female'))\n",
    "print('F1 Score: ', f1_score(y_test, prediction, pos_label='Female'))"
   ]
  },
  {
   "cell_type": "markdown",
   "id": "f1a19e68",
   "metadata": {},
   "source": [
    "## QDA"
   ]
  },
  {
   "cell_type": "code",
   "execution_count": 294,
   "id": "1cb83b2b",
   "metadata": {},
   "outputs": [],
   "source": [
    "train_df = pd.read_csv('train.csv')\n",
    "test_df = pd.read_csv('test.csv')"
   ]
  },
  {
   "cell_type": "code",
   "execution_count": 295,
   "id": "679455c2",
   "metadata": {},
   "outputs": [],
   "source": [
    "# Features to drop: \n",
    "# 'Year, Total words'\n",
    "\n",
    "X = train_df.drop(columns=['Lead', 'Year', 'Total words'])\n",
    "y = train_df['Lead']"
   ]
  },
  {
   "cell_type": "code",
   "execution_count": 296,
   "id": "9a38e328",
   "metadata": {},
   "outputs": [],
   "source": [
    "X_train, X_test, y_train, y_test = train_test_split(X, y, test_size=0.3, random_state=42)"
   ]
  },
  {
   "cell_type": "code",
   "execution_count": 297,
   "id": "355bead1",
   "metadata": {},
   "outputs": [],
   "source": [
    "# MinMaxScaler\n",
    "scaler = preprocessing.MinMaxScaler()\n",
    "X_train = scaler.fit_transform(X_train)\n",
    "X_test = scaler.transform(X_test)"
   ]
  },
  {
   "cell_type": "code",
   "execution_count": 298,
   "id": "6db8920f",
   "metadata": {
    "scrolled": true
   },
   "outputs": [
    {
     "name": "stdout",
     "output_type": "stream",
     "text": [
      "0.9452054794520548\n",
      "0.8904109589041096\n",
      "0.8356164383561644\n",
      "0.8904109589041096\n",
      "0.9178082191780822\n",
      "0.9315068493150684\n",
      "0.8904109589041096\n",
      "0.8611111111111112\n",
      "0.875\n",
      "0.8888888888888888\n",
      "\n",
      "accuracy:  0.8926369863013699\n",
      "misclassifications:  0.10736301369863013\n"
     ]
    }
   ],
   "source": [
    "# Cross Validation\n",
    "\n",
    "accuracy, misclassifications = k_fold_cv(QuadraticDiscriminantAnalysis(), X_train, y_train)\n",
    "\n",
    "print('')\n",
    "print('accuracy: ', accuracy)\n",
    "print('misclassifications: ', misclassifications)"
   ]
  },
  {
   "cell_type": "code",
   "execution_count": 299,
   "id": "e8340b8a",
   "metadata": {},
   "outputs": [
    {
     "data": {
      "text/plain": [
       "0.8974358974358975"
      ]
     },
     "execution_count": 299,
     "metadata": {},
     "output_type": "execute_result"
    }
   ],
   "source": [
    "# Score on test set\n",
    "\n",
    "clf = QuadraticDiscriminantAnalysis().fit(X_train, y_train)\n",
    "clf.score(X_test, y_test)"
   ]
  },
  {
   "cell_type": "code",
   "execution_count": 365,
   "id": "5d92b90f",
   "metadata": {},
   "outputs": [],
   "source": [
    "# Confusion Matrix\n",
    "\n",
    "prediction = clf.predict(X_test)\n",
    "\n",
    "# plt.rcParams.update({'font.size': 17})\n",
    "# plot_confusion_matrix(clf, X_test, y_test, cmap='Blues') \n",
    "# plt.savefig('confusion_matrix_qda.jpg', bbox_inches=\"tight\")\n",
    "# plt.show()"
   ]
  },
  {
   "cell_type": "code",
   "execution_count": 301,
   "id": "761275ca",
   "metadata": {},
   "outputs": [
    {
     "name": "stdout",
     "output_type": "stream",
     "text": [
      "Precision:  0.8571428571428571\n",
      "Recall:  0.7317073170731707\n",
      "F1 Score:  0.7894736842105263\n"
     ]
    }
   ],
   "source": [
    "# Evaluation Scores \n",
    "\n",
    "print('Precision: ', precision_score(y_test, prediction, pos_label='Female'))\n",
    "print('Recall: ', recall_score(y_test, prediction, pos_label='Female'))\n",
    "print('F1 Score: ', f1_score(y_test, prediction, pos_label='Female'))"
   ]
  },
  {
   "cell_type": "markdown",
   "id": "105d1e35",
   "metadata": {},
   "source": [
    "## Random Forest"
   ]
  },
  {
   "cell_type": "code",
   "execution_count": 302,
   "id": "df1780b1",
   "metadata": {},
   "outputs": [],
   "source": [
    "train_df = pd.read_csv('train.csv')\n",
    "test_df = pd.read_csv('test.csv')"
   ]
  },
  {
   "cell_type": "code",
   "execution_count": 303,
   "id": "8d934489",
   "metadata": {},
   "outputs": [],
   "source": [
    "# Features to drop: \n",
    "# Gross, Mean Age Male, Mean Age Female, Total words'\n",
    "\n",
    "X = train_df.drop(columns=['Lead', 'Gross', 'Mean Age Male', 'Mean Age Female', 'Total words'])\n",
    "y = train_df['Lead']"
   ]
  },
  {
   "cell_type": "code",
   "execution_count": 304,
   "id": "fb6e9fa9",
   "metadata": {},
   "outputs": [],
   "source": [
    "X_train, X_test, y_train, y_test = train_test_split(X, y, test_size=0.3, random_state=42)"
   ]
  },
  {
   "cell_type": "code",
   "execution_count": 305,
   "id": "d561e615",
   "metadata": {},
   "outputs": [],
   "source": [
    "# MinMaxScaler\n",
    "scaler = preprocessing.MinMaxScaler()\n",
    "X_train = scaler.fit_transform(X_train)\n",
    "X_test = scaler.transform(X_test)"
   ]
  },
  {
   "cell_type": "code",
   "execution_count": 306,
   "id": "3ed96d97",
   "metadata": {},
   "outputs": [
    {
     "name": "stdout",
     "output_type": "stream",
     "text": [
      "{'max_depth': 14, 'n_estimators': 200}\n"
     ]
    }
   ],
   "source": [
    "# Gridsearch\n",
    "\n",
    "parameters = {'n_estimators': [100, 200, 500, 750],\n",
    "             'max_depth': [6, 8, 12, 14]}\n",
    "\n",
    "clf = RandomForestClassifier()\n",
    "\n",
    "gs = GridSearchCV(clf, parameters)\n",
    "\n",
    "gs.fit(X_train, y_train)\n",
    "print(gs.best_params_)"
   ]
  },
  {
   "cell_type": "code",
   "execution_count": 307,
   "id": "1dab624e",
   "metadata": {},
   "outputs": [
    {
     "name": "stdout",
     "output_type": "stream",
     "text": [
      "0.9315068493150684\n",
      "0.7945205479452054\n",
      "0.863013698630137\n",
      "0.863013698630137\n",
      "0.7671232876712328\n",
      "0.8904109589041096\n",
      "0.7808219178082192\n",
      "0.8611111111111112\n",
      "0.8055555555555556\n",
      "0.8194444444444444\n",
      "\n",
      "accuracy:  0.8376522070015221\n",
      "misclassifications:  0.16234779299847793\n"
     ]
    }
   ],
   "source": [
    "# Cross Validation\n",
    "\n",
    "accuracy, misclassifications = k_fold_cv(RandomForestClassifier(**gs.best_params_), X_train, y_train)\n",
    "\n",
    "print('')\n",
    "print('accuracy: ', accuracy)\n",
    "print('misclassifications: ', misclassifications)"
   ]
  },
  {
   "cell_type": "code",
   "execution_count": 308,
   "id": "855840ca",
   "metadata": {},
   "outputs": [
    {
     "data": {
      "text/plain": [
       "0.8301282051282052"
      ]
     },
     "execution_count": 308,
     "metadata": {},
     "output_type": "execute_result"
    }
   ],
   "source": [
    "# Score on test set\n",
    "\n",
    "clf = RandomForestClassifier(**gs.best_params_).fit(X_train, y_train)\n",
    "clf.score(X_test, y_test)"
   ]
  },
  {
   "cell_type": "code",
   "execution_count": 309,
   "id": "7b5e36fb",
   "metadata": {},
   "outputs": [
    {
     "data": {
      "image/png": "[encoded data removed]",
      "text/plain": [
       "<Figure size 432x288 with 2 Axes>"
      ]
     },
     "metadata": {
      "needs_background": "light"
     },
     "output_type": "display_data"
    }
   ],
   "source": [
    "# Confusion Matrix\n",
    "\n",
    "prediction = clf.predict(X_test)\n",
    "\n",
    "# plt.rcParams.update({'font.size': 17})\n",
    "# plot_confusion_matrix(clf, X_test, y_test, cmap='Blues') \n",
    "# plt.savefig('confusion_matrix_rf.jpg', bbox_inches=\"tight\")\n",
    "# plt.show()"
   ]
  },
  {
   "cell_type": "code",
   "execution_count": 310,
   "id": "ab2ab741",
   "metadata": {},
   "outputs": [
    {
     "name": "stdout",
     "output_type": "stream",
     "text": [
      "Precision:  0.8536585365853658\n",
      "Recall:  0.4268292682926829\n",
      "F1 Score:  0.5691056910569106\n"
     ]
    }
   ],
   "source": [
    "# Evaluation Scores \n",
    "\n",
    "print('Precision: ', precision_score(y_test, prediction, pos_label='Female'))\n",
    "print('Recall: ', recall_score(y_test, prediction, pos_label='Female'))\n",
    "print('F1 Score: ', f1_score(y_test, prediction, pos_label='Female'))"
   ]
  },
  {
   "cell_type": "markdown",
   "id": "48794882",
   "metadata": {},
   "source": [
    "## Support Vector Machine"
   ]
  },
  {
   "cell_type": "code",
   "execution_count": 329,
   "id": "53139233",
   "metadata": {},
   "outputs": [],
   "source": [
    "train_df = pd.read_csv('train.csv')\n",
    "test_df = pd.read_csv('test.csv')"
   ]
  },
  {
   "cell_type": "code",
   "execution_count": 330,
   "id": "3e2b1530",
   "metadata": {},
   "outputs": [],
   "source": [
    "# Features to drop: \n",
    "# 'Year, Gross, Mean Age Male, Mean Age Female, Total words'\n",
    "\n",
    "X = train_df.drop(columns=['Lead', 'Year', 'Gross', 'Mean Age Male', 'Mean Age Female', 'Total words'])\n",
    "y = train_df['Lead']"
   ]
  },
  {
   "cell_type": "code",
   "execution_count": 313,
   "id": "88d4a277",
   "metadata": {},
   "outputs": [],
   "source": [
    "X_train, X_test, y_train, y_test = train_test_split(X, y, test_size=0.3, random_state=42)"
   ]
  },
  {
   "cell_type": "code",
   "execution_count": 314,
   "id": "517dac55",
   "metadata": {},
   "outputs": [],
   "source": [
    "# MinMaxScaler\n",
    "scaler = preprocessing.MinMaxScaler()\n",
    "X_train = scaler.fit_transform(X_train)\n",
    "X_test = scaler.transform(X_test)"
   ]
  },
  {
   "cell_type": "code",
   "execution_count": 315,
   "id": "678ac04d",
   "metadata": {},
   "outputs": [
    {
     "name": "stdout",
     "output_type": "stream",
     "text": [
      "{'C': 100, 'gamma': 'scale', 'kernel': 'poly'}\n"
     ]
    }
   ],
   "source": [
    "# Gridsearch\n",
    "parameters = {'C': [0.1, 1, 10, 100, 150, 200],\n",
    "              'kernel': ['linear', 'poly', 'rbf', 'sigmoid'],\n",
    "             'gamma': ['scale', 'auto']}\n",
    "clf = SVC()\n",
    "\n",
    "gs = GridSearchCV(clf, parameters)\n",
    "\n",
    "gs.fit(X_train, y_train)\n",
    "print(gs.best_params_)"
   ]
  },
  {
   "cell_type": "code",
   "execution_count": 316,
   "id": "4581d3b7",
   "metadata": {},
   "outputs": [
    {
     "name": "stdout",
     "output_type": "stream",
     "text": [
      "0.9863013698630136\n",
      "0.8904109589041096\n",
      "0.9041095890410958\n",
      "0.9315068493150684\n",
      "0.9178082191780822\n",
      "0.8904109589041096\n",
      "0.8082191780821918\n",
      "0.8888888888888888\n",
      "0.9583333333333334\n",
      "0.875\n",
      "\n",
      "accuracy:  0.9050989345509893\n",
      "misclassifications:  0.09490106544901065\n"
     ]
    }
   ],
   "source": [
    "# Cross Validation\n",
    "\n",
    "accuracy, misclassifications = k_fold_cv(SVC(**gs.best_params_), X_train, y_train)\n",
    "\n",
    "print('')\n",
    "print('accuracy: ', accuracy)\n",
    "print('misclassifications: ', misclassifications)"
   ]
  },
  {
   "cell_type": "code",
   "execution_count": 317,
   "id": "765ec540",
   "metadata": {},
   "outputs": [
    {
     "data": {
      "text/plain": [
       "0.9006410256410257"
      ]
     },
     "execution_count": 317,
     "metadata": {},
     "output_type": "execute_result"
    }
   ],
   "source": [
    "# Score on test set\n",
    "\n",
    "clf = SVC(**gs.best_params_).fit(X_train, y_train)\n",
    "clf.score(X_test, y_test)"
   ]
  },
  {
   "cell_type": "code",
   "execution_count": 366,
   "id": "cd0e8952",
   "metadata": {},
   "outputs": [],
   "source": [
    "# Confusion Matrix\n",
    "\n",
    "prediction = clf.predict(X_test)\n",
    "\n",
    "# plt.rcParams.update({'font.size': 17})\n",
    "# plot_confusion_matrix(clf, X_test, y_test, cmap='Blues') \n",
    "# plt.savefig('confusion_matrix_svm.jpg', bbox_inches=\"tight\")\n",
    "# plt.show()"
   ]
  },
  {
   "cell_type": "code",
   "execution_count": 319,
   "id": "203821b6",
   "metadata": {},
   "outputs": [
    {
     "name": "stdout",
     "output_type": "stream",
     "text": [
      "Precision:  0.8591549295774648\n",
      "Recall:  0.7439024390243902\n",
      "F1 Score:  0.7973856209150327\n"
     ]
    }
   ],
   "source": [
    "# Evaluation Scores \n",
    "\n",
    "print('Precision: ', precision_score(y_test, prediction, pos_label='Female'))\n",
    "print('Recall: ', recall_score(y_test, prediction, pos_label='Female'))\n",
    "print('F1 Score: ', f1_score(y_test, prediction, pos_label='Female'))"
   ]
  },
  {
   "cell_type": "markdown",
   "id": "b7886fef",
   "metadata": {},
   "source": [
    "# Final Prediction on Test Set using SVM"
   ]
  },
  {
   "cell_type": "markdown",
   "id": "7309a879",
   "metadata": {},
   "source": [
    "### Train model on whole training data"
   ]
  },
  {
   "cell_type": "code",
   "execution_count": 3,
   "id": "41bba6e1",
   "metadata": {},
   "outputs": [],
   "source": [
    "train_df = pd.read_csv('train.csv')"
   ]
  },
  {
   "cell_type": "code",
   "execution_count": 4,
   "id": "7dd1536d",
   "metadata": {},
   "outputs": [],
   "source": [
    "X = train_df.drop(columns=['Lead', 'Year', 'Gross', 'Mean Age Male', 'Mean Age Female', 'Total words'])\n",
    "y = train_df['Lead']"
   ]
  },
  {
   "cell_type": "code",
   "execution_count": 5,
   "id": "cfbd0581",
   "metadata": {},
   "outputs": [],
   "source": [
    "# MinMaxScaler\n",
    "scaler = preprocessing.MinMaxScaler()\n",
    "X = scaler.fit_transform(X)"
   ]
  },
  {
   "cell_type": "markdown",
   "id": "df023a9b",
   "metadata": {},
   "source": [
    "### Prepare Testset"
   ]
  },
  {
   "cell_type": "code",
   "execution_count": 6,
   "id": "8bee30f7",
   "metadata": {},
   "outputs": [],
   "source": [
    "# load test set\n",
    "test_df = pd.read_csv('test.csv')\n",
    "\n",
    "# select features\n",
    "Test_X = test_df.drop(columns=['Year', 'Gross', 'Mean Age Male', 'Mean Age Female', 'Total words'])"
   ]
  },
  {
   "cell_type": "code",
   "execution_count": 7,
   "id": "be007a90",
   "metadata": {},
   "outputs": [],
   "source": [
    "# scale data\n",
    "Test_X = scaler.transform(Test_X)"
   ]
  },
  {
   "cell_type": "markdown",
   "id": "1f28cfd7",
   "metadata": {},
   "source": [
    "### Predictions"
   ]
  },
  {
   "cell_type": "code",
   "execution_count": 31,
   "id": "984f89de",
   "metadata": {},
   "outputs": [],
   "source": [
    "# fit final SVC model\n",
    "clf = SVC(C=100, gamma='scale', kernel='poly').fit(X, y)\n",
    "\n",
    "# label prediction\n",
    "y_pred = clf.predict(Test_X)"
   ]
  },
  {
   "cell_type": "markdown",
   "id": "4f13434e",
   "metadata": {},
   "source": [
    "### Save results"
   ]
  },
  {
   "cell_type": "code",
   "execution_count": 33,
   "id": "88f7d44a",
   "metadata": {},
   "outputs": [],
   "source": [
    "y_pred = np.where(y_pred == 'Male', 0, 1)\n",
    "y_pred = y_pred.flatten()"
   ]
  },
  {
   "cell_type": "code",
   "execution_count": 37,
   "id": "f7eec86e",
   "metadata": {},
   "outputs": [
    {
     "data": {
      "text/plain": [
       "array([0, 0, 0, 0, 0, 0, 0, 0, 0, 0, 0, 0, 1, 0, 0, 1, 0, 0, 0, 0, 0, 1,\n",
       "       0, 0, 0, 0, 0, 0, 0, 0, 0, 0, 0, 0, 1, 0, 0, 0, 0, 0, 0, 0, 0, 0,\n",
       "       0, 1, 0, 1, 1, 0, 1, 0, 1, 1, 0, 0, 0, 0, 0, 1, 0, 0, 0, 0, 1, 0,\n",
       "       1, 0, 0, 0, 1, 1, 0, 0, 0, 0, 0, 0, 0, 0, 0, 0, 0, 0, 0, 0, 1, 0,\n",
       "       0, 1, 0, 0, 0, 0, 0, 0, 0, 0, 0, 0, 0, 1, 0, 0, 0, 0, 1, 0, 0, 0,\n",
       "       0, 1, 0, 0, 0, 0, 0, 1, 0, 0, 0, 0, 0, 1, 0, 0, 1, 1, 0, 0, 0, 1,\n",
       "       1, 0, 0, 0, 0, 0, 0, 0, 0, 0, 0, 0, 0, 0, 0, 0, 0, 0, 0, 0, 0, 1,\n",
       "       0, 0, 0, 0, 0, 0, 1, 0, 0, 0, 0, 1, 0, 0, 0, 0, 0, 0, 0, 0, 1, 0,\n",
       "       0, 0, 0, 0, 0, 0, 0, 0, 0, 0, 0, 0, 0, 0, 0, 0, 0, 0, 0, 0, 0, 0,\n",
       "       1, 1, 0, 0, 0, 0, 1, 1, 1, 0, 0, 0, 0, 0, 0, 0, 0, 1, 0, 0, 0, 0,\n",
       "       0, 1, 0, 0, 0, 0, 1, 0, 1, 1, 1, 0, 0, 1, 0, 1, 0, 0, 0, 0, 0, 0,\n",
       "       1, 0, 0, 1, 0, 0, 0, 1, 0, 0, 0, 1, 0, 0, 0, 0, 1, 1, 0, 0, 0, 0,\n",
       "       0, 0, 0, 0, 0, 0, 0, 0, 0, 0, 0, 1, 0, 0, 0, 0, 0, 1, 0, 0, 0, 0,\n",
       "       1, 0, 0, 0, 1, 0, 0, 0, 1, 0, 0, 0, 0, 0, 0, 0, 0, 0, 0, 0, 0, 0,\n",
       "       0, 0, 0, 0, 0, 0, 0, 0, 1, 0, 0, 0, 0, 0, 0, 0, 0, 0, 1, 0, 0, 0,\n",
       "       1, 0, 1, 1, 0, 0, 1, 0, 1, 0, 0, 1, 0, 1, 0, 1, 0, 0, 1, 0, 0, 0,\n",
       "       0, 0, 0, 0, 0, 0, 0, 0, 0, 0, 0, 0, 0, 0, 0, 0, 1, 1, 0, 0, 0, 0,\n",
       "       0, 0, 0, 1, 1, 0, 0, 1, 1, 0, 1, 0, 0])"
      ]
     },
     "execution_count": 37,
     "metadata": {},
     "output_type": "execute_result"
    }
   ],
   "source": [
    "y_pred"
   ]
  },
  {
   "cell_type": "code",
   "execution_count": 70,
   "id": "c8645076",
   "metadata": {},
   "outputs": [],
   "source": [
    "import csv\n",
    "\n",
    "y_pred = list(y_pred)\n",
    "\n",
    "with open('predictions.csv', 'w') as f: \n",
    "    write = csv.writer(f) \n",
    "    write.writerow(y_pred) "
   ]
  },
  {
   "cell_type": "code",
   "execution_count": null,
   "id": "700952b4",
   "metadata": {},
   "outputs": [],
   "source": []
  }
 ],
 "metadata": {
  "kernelspec": {
   "display_name": "Python 3 (ipykernel)",
   "language": "python",
   "name": "python3"
  },
  "language_info": {
   "codemirror_mode": {
    "name": "ipython",
    "version": 3
   },
   "file_extension": ".py",
   "mimetype": "text/x-python",
   "name": "python",
   "nbconvert_exporter": "python",
   "pygments_lexer": "ipython3",
   "version": "3.9.7"
  }
 },
 "nbformat": 4,
 "nbformat_minor": 5
}
